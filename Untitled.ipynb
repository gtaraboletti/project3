{
 "cells": [
  {
   "cell_type": "code",
   "execution_count": 2,
   "id": "c411284b-8964-4b43-88f3-4f51e4b2e58d",
   "metadata": {},
   "outputs": [
    {
     "name": "stdout",
     "output_type": "stream",
     "text": [
      "AAPL\n"
     ]
    }
   ],
   "source": [
    "stock = 'Aapl'\n",
    "stockup = stock.upper() \n",
    "print(stockup)"
   ]
  },
  {
   "cell_type": "code",
   "execution_count": null,
   "id": "a1f5c337-d5d7-48dd-a6c6-58fc4ddb067b",
   "metadata": {},
   "outputs": [],
   "source": []
  }
 ],
 "metadata": {
  "kernelspec": {
   "display_name": "Python 3",
   "language": "python",
   "name": "python3"
  },
  "language_info": {
   "codemirror_mode": {
    "name": "ipython",
    "version": 3
   },
   "file_extension": ".py",
   "mimetype": "text/x-python",
   "name": "python",
   "nbconvert_exporter": "python",
   "pygments_lexer": "ipython3",
   "version": "3.7.10"
  }
 },
 "nbformat": 4,
 "nbformat_minor": 5
}
